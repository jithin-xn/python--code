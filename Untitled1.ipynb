{
 "cells": [
  {
   "cell_type": "code",
   "execution_count": 2,
   "id": "5b09f03c-74e1-42e3-9361-e60e5f413c2c",
   "metadata": {},
   "outputs": [
    {
     "name": "stdin",
     "output_type": "stream",
     "text": [
      " 5\n",
      " 6\n"
     ]
    },
    {
     "name": "stdout",
     "output_type": "stream",
     "text": [
      "6 5\n"
     ]
    }
   ],
   "source": [
    "a=int(input())\n",
    "b=int(input())\n",
    "x=a\n",
    "a=b\n",
    "b=a\n",
    "print(a,x)"
   ]
  },
  {
   "cell_type": "code",
   "execution_count": 23,
   "id": "72430f62-f570-433f-ad56-cffebb4c2b52",
   "metadata": {},
   "outputs": [
    {
     "name": "stdin",
     "output_type": "stream",
     "text": [
      " 5\n",
      " 6\n"
     ]
    },
    {
     "name": "stdout",
     "output_type": "stream",
     "text": [
      "4.0\n"
     ]
    }
   ],
   "source": [
    "import math\n",
    "a=int(input())\n",
    "b=int(input())\n",
    "c=math.sqrt(a*a-b*b/4)\n",
    "print(c)"
   ]
  },
  {
   "cell_type": "code",
   "execution_count": 5,
   "id": "f97af82a-de00-4f88-a7a4-45819fa5ddb9",
   "metadata": {},
   "outputs": [
    {
     "name": "stdin",
     "output_type": "stream",
     "text": [
      " 5\n",
      " 6\n",
      " 6\n"
     ]
    },
    {
     "name": "stdout",
     "output_type": "stream",
     "text": [
      "1.8\n"
     ]
    }
   ],
   "source": [
    "p=int(input())\n",
    "t=int(input())\n",
    "r=int(input())\n",
    "i=p*t*r/100\n",
    "print(i)"
   ]
  },
  {
   "cell_type": "code",
   "execution_count": 10,
   "id": "b392f824-3ee8-4e00-b676-acc1bbfcd919",
   "metadata": {},
   "outputs": [
    {
     "name": "stdin",
     "output_type": "stream",
     "text": [
      " 5\n"
     ]
    },
    {
     "name": "stdout",
     "output_type": "stream",
     "text": [
      "0.058788947677836566\n"
     ]
    }
   ],
   "source": [
    "rupee=int(input())\n",
    "dollor=rupee/85.05\n",
    "print( dollor)"
   ]
  },
  {
   "cell_type": "code",
   "execution_count": 11,
   "id": "ffbb1de9-87fc-4b65-a39e-e6c726fdf87e",
   "metadata": {},
   "outputs": [
    {
     "name": "stdin",
     "output_type": "stream",
     "text": [
      " 2\n",
      " 3\n",
      " 4\n"
     ]
    },
    {
     "name": "stdout",
     "output_type": "stream",
     "text": [
      "6.333333333333333\n"
     ]
    }
   ],
   "source": [
    "a=int(input())\n",
    "b=int(input())\n",
    "c=int(input())\n",
    "d=a+b+c/3\n",
    "print(d)"
   ]
  },
  {
   "cell_type": "code",
   "execution_count": 13,
   "id": "8d39edd2-9936-4f29-9f38-53aca2b680da",
   "metadata": {},
   "outputs": [
    {
     "name": "stdin",
     "output_type": "stream",
     "text": [
      " 10\n"
     ]
    },
    {
     "name": "stdout",
     "output_type": "stream",
     "text": [
      "6.2\n"
     ]
    }
   ],
   "source": [
    "kilometers=float(input())\n",
    "miles=0.62*kilometers\n",
    "print(miles)"
   ]
  },
  {
   "cell_type": "code",
   "execution_count": 14,
   "id": "22654e4c-92a0-474f-8c15-ce2d4f1c1354",
   "metadata": {},
   "outputs": [
    {
     "name": "stdin",
     "output_type": "stream",
     "text": [
      " 30\n"
     ]
    },
    {
     "name": "stdout",
     "output_type": "stream",
     "text": [
      "86.0\n"
     ]
    }
   ],
   "source": [
    "celcius=float(input())\n",
    "faurenheit=(celcius*9/5)+32\n",
    "print(faurenheit)"
   ]
  },
  {
   "cell_type": "code",
   "execution_count": 25,
   "id": "a1023863-30a1-44f6-b397-27b4d49bcfc2",
   "metadata": {},
   "outputs": [
    {
     "name": "stdin",
     "output_type": "stream",
     "text": [
      " 10\n"
     ]
    },
    {
     "name": "stdout",
     "output_type": "stream",
     "text": [
      "43.301270189221924\n"
     ]
    }
   ],
   "source": [
    "sidelength=int(input())\n",
    "area=((math.sqrt(3))/4)*sidelength*sidelength\n",
    "print(area)"
   ]
  },
  {
   "cell_type": "code",
   "execution_count": null,
   "id": "c25d73c2-9fca-4864-bd63-00e9027d6519",
   "metadata": {},
   "outputs": [],
   "source": []
  }
 ],
 "metadata": {
  "kernelspec": {
   "display_name": "Python 3 (ipykernel)",
   "language": "python",
   "name": "python3"
  },
  "language_info": {
   "codemirror_mode": {
    "name": "ipython",
    "version": 3
   },
   "file_extension": ".py",
   "mimetype": "text/x-python",
   "name": "python",
   "nbconvert_exporter": "python",
   "pygments_lexer": "ipython3",
   "version": "3.13.1"
  }
 },
 "nbformat": 4,
 "nbformat_minor": 5
}
